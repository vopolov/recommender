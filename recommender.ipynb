{
 "cells": [
  {
   "cell_type": "code",
   "execution_count": 65,
   "metadata": {},
   "outputs": [],
   "source": [
    "import time\n",
    "\n",
    "import numpy as np\n",
    "import pandas as pd\n",
    "from scipy.spatial.distance import cosine\n",
    "from scipy.sparse import csr_matrix\n",
    "from sklearn.decomposition import TruncatedSVD\n",
    "from sklearn.model_selection import train_test_split\n",
    "from sklearn.neighbors import NearestNeighbors"
   ]
  },
  {
   "cell_type": "markdown",
   "metadata": {},
   "source": [
    "### read data"
   ]
  },
  {
   "cell_type": "code",
   "execution_count": 66,
   "metadata": {},
   "outputs": [],
   "source": [
    "data_df = pd.read_csv('data/Reviews.csv')"
   ]
  },
  {
   "cell_type": "code",
   "execution_count": 67,
   "metadata": {},
   "outputs": [],
   "source": [
    "data_df = data_df.groupby(['UserId', 'ProductId']).first()"
   ]
  },
  {
   "cell_type": "code",
   "execution_count": 68,
   "metadata": {},
   "outputs": [],
   "source": [
    "scores_df = data_df['Score']"
   ]
  },
  {
   "cell_type": "code",
   "execution_count": 69,
   "metadata": {},
   "outputs": [],
   "source": [
    "scores_df = scores_df.reset_index()"
   ]
  },
  {
   "cell_type": "code",
   "execution_count": 70,
   "metadata": {},
   "outputs": [],
   "source": [
    "users = scores_df['UserId']\n",
    "items = scores_df['ProductId']"
   ]
  },
  {
   "cell_type": "code",
   "execution_count": 71,
   "metadata": {},
   "outputs": [],
   "source": [
    "users = users.astype('category')\n",
    "items = items.astype('category')"
   ]
  },
  {
   "cell_type": "code",
   "execution_count": 72,
   "metadata": {},
   "outputs": [],
   "source": [
    "scores = scores_df['Score']\n",
    "scores = scores.astype('int32')"
   ]
  },
  {
   "cell_type": "markdown",
   "metadata": {},
   "source": [
    "### create user / item sparse matrix"
   ]
  },
  {
   "cell_type": "code",
   "execution_count": 73,
   "metadata": {},
   "outputs": [],
   "source": [
    "data = scores.to_numpy()\n",
    "user_idx = users.cat.codes.to_numpy()\n",
    "item_idx = items.cat.codes.to_numpy()"
   ]
  },
  {
   "cell_type": "code",
   "execution_count": 74,
   "metadata": {},
   "outputs": [
    {
     "data": {
      "text/plain": "((560804,), (560804,), (560804,))"
     },
     "execution_count": 74,
     "metadata": {},
     "output_type": "execute_result"
    }
   ],
   "source": [
    "data.shape, user_idx.shape, item_idx.shape"
   ]
  },
  {
   "cell_type": "code",
   "execution_count": 75,
   "metadata": {},
   "outputs": [],
   "source": [
    "user_names = users.cat.categories.values\n",
    "item_names = items.cat.categories.values"
   ]
  },
  {
   "cell_type": "code",
   "execution_count": 76,
   "metadata": {},
   "outputs": [
    {
     "data": {
      "text/plain": "(256059, 74258)"
     },
     "execution_count": 76,
     "metadata": {},
     "output_type": "execute_result"
    }
   ],
   "source": [
    "users_num, items_num = user_names.shape[0], item_names.shape[0]\n",
    "users_num, items_num"
   ]
  },
  {
   "cell_type": "code",
   "execution_count": 77,
   "metadata": {},
   "outputs": [],
   "source": [
    "sparse_data = csr_matrix((data, (user_idx, item_idx)),\n",
    "                         shape=(users_num, items_num))"
   ]
  },
  {
   "cell_type": "code",
   "execution_count": 78,
   "metadata": {},
   "outputs": [
    {
     "data": {
      "text/plain": "<256059x74258 sparse matrix of type '<class 'numpy.int32'>'\n\twith 560804 stored elements in Compressed Sparse Row format>"
     },
     "execution_count": 78,
     "metadata": {},
     "output_type": "execute_result"
    }
   ],
   "source": [
    "sparse_data"
   ]
  },
  {
   "cell_type": "code",
   "execution_count": 79,
   "metadata": {},
   "outputs": [],
   "source": [
    "seed = 1"
   ]
  },
  {
   "cell_type": "markdown",
   "source": [
    "### split user base to train / test sets"
   ],
   "metadata": {
    "collapsed": false,
    "pycharm": {
     "name": "#%% md\n"
    }
   }
  },
  {
   "cell_type": "code",
   "execution_count": 80,
   "outputs": [],
   "source": [
    "train, test, train_user_names, test_user_names = train_test_split(\n",
    "            sparse_data,\n",
    "            user_names,\n",
    "            test_size=0.1, random_state=seed, shuffle=True)"
   ],
   "metadata": {
    "collapsed": false,
    "pycharm": {
     "name": "#%%\n"
    }
   }
  },
  {
   "cell_type": "markdown",
   "metadata": {},
   "source": [
    "### reduce dimensions with SVD"
   ]
  },
  {
   "cell_type": "code",
   "execution_count": 81,
   "metadata": {},
   "outputs": [],
   "source": [
    "svd = TruncatedSVD(n_components=100, random_state=seed)"
   ]
  },
  {
   "cell_type": "code",
   "execution_count": 82,
   "metadata": {},
   "outputs": [],
   "source": [
    "train_reduced = svd.fit_transform(train)"
   ]
  },
  {
   "cell_type": "code",
   "execution_count": 83,
   "metadata": {},
   "outputs": [
    {
     "data": {
      "text/plain": "(230453, 74258)"
     },
     "execution_count": 83,
     "metadata": {},
     "output_type": "execute_result"
    }
   ],
   "source": [
    "train.shape"
   ]
  },
  {
   "cell_type": "code",
   "execution_count": 84,
   "metadata": {},
   "outputs": [
    {
     "data": {
      "text/plain": "(230453, 100)"
     },
     "execution_count": 84,
     "metadata": {},
     "output_type": "execute_result"
    }
   ],
   "source": [
    "train_reduced.shape"
   ]
  },
  {
   "cell_type": "markdown",
   "source": [
    "### apply nearest neighbor search using some distance"
   ],
   "metadata": {
    "collapsed": false
   }
  },
  {
   "cell_type": "code",
   "execution_count": 85,
   "metadata": {},
   "outputs": [],
   "source": [
    "neigh = NearestNeighbors(algorithm='ball_tree',\n",
    "                         metric='minkowski',\n",
    "                         # metric=cosine,\n",
    "                         n_jobs=-1)"
   ]
  },
  {
   "cell_type": "code",
   "execution_count": 86,
   "metadata": {},
   "outputs": [
    {
     "data": {
      "text/plain": "NearestNeighbors(algorithm='ball_tree', n_jobs=-1)"
     },
     "execution_count": 86,
     "metadata": {},
     "output_type": "execute_result"
    }
   ],
   "source": [
    "neigh.fit(train_reduced)"
   ]
  },
  {
   "cell_type": "code",
   "execution_count": 87,
   "metadata": {
    "pycharm": {
     "name": "#%%\n"
    }
   },
   "outputs": [],
   "source": [
    "def get_scores(query, nn_object=neigh, n=10, sparse=train):\n",
    "    \"\"\"\n",
    "    Retrieve n nearest neighbors from sparse matrix and calculate\n",
    "    scores from averaged nonzero elements\n",
    "    :param query: rows from SVD-reduced array\n",
    "    :param nn_object: NearestNeighbor search obj precomputed on\n",
    "    SVD-reduced array\n",
    "    :param n: number of neighbors to retrieve\n",
    "    :param sparse: sparse matrix containing user scores\n",
    "    :return: averaged scores\n",
    "    \"\"\"\n",
    "    distance, indices = nn_object.kneighbors(query, n_neighbors=n)\n",
    "    distance = distance[:, :, None]\n",
    "    similarity = 1 / (1 + distance)\n",
    "    neighbors = []\n",
    "    for row in indices:\n",
    "        row_data = sparse[row].toarray()\n",
    "        neighbors.append(row_data)\n",
    "    # shape: [sample_dim, neighbor_dim, item_dim]\n",
    "    neighbors = np.stack(neighbors, axis=0)\n",
    "    result = (neighbors * similarity).sum(axis=1)\n",
    "    been_scored = np.where(neighbors != 0, 1, 0)\n",
    "    norm = (been_scored * similarity).sum(axis=1)\n",
    "    norm[norm == 0] = 1\n",
    "    result = result / norm\n",
    "    result = np.clip(result, 0, 1)  # account for float errors\n",
    "    return result"
   ]
  },
  {
   "cell_type": "code",
   "execution_count": 88,
   "metadata": {
    "collapsed": false,
    "jupyter": {
     "outputs_hidden": false
    },
    "pycharm": {
     "name": "#%%\n"
    }
   },
   "outputs": [],
   "source": [
    "def rmse(predicted, sparse=test):\n",
    "    dense = sparse.toarray()\n",
    "    mask = dense != 0\n",
    "    se = np.power(predicted[mask] - dense[mask], 2)\n",
    "    return np.power(se.mean(), 0.5)"
   ]
  },
  {
   "cell_type": "code",
   "execution_count": 89,
   "outputs": [],
   "source": [
    "test_reduced = svd.transform(test)"
   ],
   "metadata": {
    "collapsed": false,
    "pycharm": {
     "name": "#%%\n"
    }
   }
  },
  {
   "cell_type": "code",
   "execution_count": 90,
   "outputs": [
    {
     "data": {
      "text/plain": "(25606, 100)"
     },
     "execution_count": 90,
     "metadata": {},
     "output_type": "execute_result"
    }
   ],
   "source": [
    "test_reduced.shape"
   ],
   "metadata": {
    "collapsed": false,
    "pycharm": {
     "name": "#%%\n"
    }
   }
  },
  {
   "cell_type": "code",
   "execution_count": 91,
   "outputs": [
    {
     "data": {
      "text/plain": "3.814470588902993"
     },
     "execution_count": 91,
     "metadata": {},
     "output_type": "execute_result"
    }
   ],
   "source": [
    "test_pred = get_scores(test_reduced[:100])\n",
    "error = rmse(test_pred, test[:100])\n",
    "error"
   ],
   "metadata": {
    "collapsed": false,
    "pycharm": {
     "name": "#%%\n"
    }
   }
  },
  {
   "cell_type": "markdown",
   "source": [
    "### processing takes too long to calculate mse on test dataset\n",
    "### skipping for now"
   ],
   "metadata": {
    "collapsed": false
   }
  },
  {
   "cell_type": "code",
   "execution_count": 92,
   "outputs": [],
   "source": [
    "def suggest_items(user_id,\n",
    "                  n_items=3,\n",
    "                  n_neighbors=10,\n",
    "                  user_list=test_user_names,\n",
    "                  item_list=item_names,\n",
    "                  nn_object=neigh,\n",
    "                  source_sparse=train,\n",
    "                  local_sparse=test,\n",
    "                  local_reduced=test_reduced):\n",
    "    \"\"\"\n",
    "    Suggest items to user base on Nearest Neighbor search\n",
    "    :param user_id: user name from dataset under 'UserId'\n",
    "    :param n_items: number of items to suggest\n",
    "    :param n_neighbors: number of neighbors to approximate scores\n",
    "    :param user_list: list of user names user_id comes from\n",
    "    :param item_list: list of item names from dataset under 'ProductId'\n",
    "    :param nn_object: NearestNeighbor search object\n",
    "    :param source_sparse: sparse data used in neighbor search\n",
    "    :param local_sparse: sparse data containing user_id scores\n",
    "    :param local_reduced: sparse data used to represent user_id features\n",
    "    :return: suggested item indices and approximated scores\n",
    "    \"\"\"\n",
    "    user_idx = np.where(user_list == user_id)[0][0]\n",
    "    query = local_reduced[user_idx].reshape(1, -1)\n",
    "    neighbor_scores = get_scores(query, nn_object, n_neighbors, source_sparse).reshape(-1)\n",
    "    user_scores = local_sparse[user_idx].toarray().reshape(-1)\n",
    "    neighbor_scores[user_scores > 0] = 0\n",
    "    item_indices = neighbor_scores.argsort()[-n_items:]\n",
    "    item_ids = item_list[item_indices]\n",
    "    item_scores = neighbor_scores[item_indices]\n",
    "    return item_ids, item_scores"
   ],
   "metadata": {
    "collapsed": false,
    "pycharm": {
     "name": "#%%\n"
    }
   }
  },
  {
   "cell_type": "code",
   "execution_count": 97,
   "outputs": [
    {
     "data": {
      "text/plain": "('A3UMRKK2HAUFGC',\n (array(['B000EHZZPE', 'B001EQ5SGU', 'B001BM3KXU'], dtype=object),\n  array([1., 1., 1.])))"
     },
     "execution_count": 97,
     "metadata": {},
     "output_type": "execute_result"
    }
   ],
   "source": [
    "user_id = test_user_names[43]\n",
    "suggested = suggest_items(user_id)\n",
    "\n",
    "user_id, suggested"
   ],
   "metadata": {
    "collapsed": false,
    "pycharm": {
     "name": "#%%\n"
    }
   }
  }
 ],
 "metadata": {
  "kernelspec": {
   "display_name": "Python 3",
   "language": "python",
   "name": "python3"
  },
  "language_info": {
   "codemirror_mode": {
    "name": "ipython",
    "version": 3
   },
   "file_extension": ".py",
   "mimetype": "text/x-python",
   "name": "python",
   "nbconvert_exporter": "python",
   "pygments_lexer": "ipython3",
   "version": "3.7.0"
  }
 },
 "nbformat": 4,
 "nbformat_minor": 4
}