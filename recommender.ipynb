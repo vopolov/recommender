{
 "cells": [
  {
   "cell_type": "code",
   "execution_count": 61,
   "metadata": {},
   "outputs": [],
   "source": [
    "import numpy as np\n",
    "import pandas as pd\n",
    "from scipy.sparse import csr_matrix\n",
    "from sklearn.decomposition import TruncatedSVD\n",
    "from sklearn.model_selection import train_test_split\n",
    "from sklearn.neighbors import NearestNeighbors"
   ]
  },
  {
   "cell_type": "markdown",
   "metadata": {},
   "source": [
    "### read data"
   ]
  },
  {
   "cell_type": "code",
   "execution_count": 62,
   "metadata": {},
   "outputs": [],
   "source": [
    "data_df = pd.read_csv('data/Reviews.csv')"
   ]
  },
  {
   "cell_type": "code",
   "execution_count": 63,
   "metadata": {},
   "outputs": [],
   "source": [
    "data_df = data_df.groupby(['UserId', 'ProductId']).first()"
   ]
  },
  {
   "cell_type": "code",
   "execution_count": 64,
   "metadata": {},
   "outputs": [],
   "source": [
    "scores_df = data_df['Score']"
   ]
  },
  {
   "cell_type": "code",
   "execution_count": 65,
   "metadata": {},
   "outputs": [],
   "source": [
    "scores_df = scores_df.reset_index()"
   ]
  },
  {
   "cell_type": "code",
   "execution_count": 66,
   "metadata": {},
   "outputs": [],
   "source": [
    "users = scores_df['UserId']\n",
    "items = scores_df['ProductId']"
   ]
  },
  {
   "cell_type": "code",
   "execution_count": 67,
   "metadata": {},
   "outputs": [],
   "source": [
    "users = users.astype('category')\n",
    "items = items.astype('category')"
   ]
  },
  {
   "cell_type": "code",
   "execution_count": 68,
   "metadata": {},
   "outputs": [],
   "source": [
    "scores = scores_df['Score']\n",
    "scores = scores.astype('int32')"
   ]
  },
  {
   "cell_type": "markdown",
   "metadata": {},
   "source": [
    "### create user / item sparse matrix"
   ]
  },
  {
   "cell_type": "code",
   "execution_count": 69,
   "metadata": {},
   "outputs": [],
   "source": [
    "data = scores.to_numpy()\n",
    "user_idx = users.cat.codes.to_numpy()\n",
    "item_idx = items.cat.codes.to_numpy()"
   ]
  },
  {
   "cell_type": "code",
   "execution_count": 70,
   "metadata": {},
   "outputs": [
    {
     "data": {
      "text/plain": "((560804,), (560804,), (560804,))"
     },
     "execution_count": 70,
     "metadata": {},
     "output_type": "execute_result"
    }
   ],
   "source": [
    "data.shape, user_idx.shape, item_idx.shape"
   ]
  },
  {
   "cell_type": "code",
   "execution_count": 71,
   "metadata": {},
   "outputs": [],
   "source": [
    "user_names = users.cat.categories.values\n",
    "item_names = items.cat.categories.values"
   ]
  },
  {
   "cell_type": "code",
   "execution_count": 72,
   "metadata": {},
   "outputs": [
    {
     "data": {
      "text/plain": "(256059, 74258)"
     },
     "execution_count": 72,
     "metadata": {},
     "output_type": "execute_result"
    }
   ],
   "source": [
    "users_num, items_num = user_names.shape[0], item_names.shape[0]\n",
    "users_num, items_num"
   ]
  },
  {
   "cell_type": "code",
   "execution_count": 73,
   "metadata": {},
   "outputs": [],
   "source": [
    "sparse_data = csr_matrix((data, (user_idx, item_idx)),\n",
    "                         shape=(users_num, items_num))"
   ]
  },
  {
   "cell_type": "code",
   "execution_count": 74,
   "metadata": {},
   "outputs": [
    {
     "data": {
      "text/plain": "<256059x74258 sparse matrix of type '<class 'numpy.int32'>'\n\twith 560804 stored elements in Compressed Sparse Row format>"
     },
     "execution_count": 74,
     "metadata": {},
     "output_type": "execute_result"
    }
   ],
   "source": [
    "sparse_data"
   ]
  },
  {
   "cell_type": "code",
   "execution_count": 75,
   "metadata": {},
   "outputs": [],
   "source": [
    "seed = 1"
   ]
  },
  {
   "cell_type": "markdown",
   "source": [
    "### split user base to train / test sets"
   ],
   "metadata": {
    "collapsed": false,
    "pycharm": {
     "name": "#%% md\n"
    }
   }
  },
  {
   "cell_type": "code",
   "execution_count": 76,
   "outputs": [],
   "source": [
    "train, test, train_user_names, test_user_names = train_test_split(\n",
    "            sparse_data,\n",
    "            user_names,\n",
    "            test_size=0.1, random_state=seed, shuffle=True)"
   ],
   "metadata": {
    "collapsed": false,
    "pycharm": {
     "name": "#%%\n"
    }
   }
  },
  {
   "cell_type": "markdown",
   "metadata": {},
   "source": [
    "### reduce dimensions with SVD"
   ]
  },
  {
   "cell_type": "code",
   "execution_count": 77,
   "metadata": {},
   "outputs": [],
   "source": [
    "svd = TruncatedSVD(n_components=100, random_state=seed)"
   ]
  },
  {
   "cell_type": "code",
   "execution_count": 78,
   "metadata": {},
   "outputs": [],
   "source": [
    "train_reduced = svd.fit_transform(train)"
   ]
  },
  {
   "cell_type": "code",
   "execution_count": 79,
   "metadata": {},
   "outputs": [
    {
     "data": {
      "text/plain": "(230453, 74258)"
     },
     "execution_count": 79,
     "metadata": {},
     "output_type": "execute_result"
    }
   ],
   "source": [
    "train.shape"
   ]
  },
  {
   "cell_type": "code",
   "execution_count": 80,
   "metadata": {},
   "outputs": [
    {
     "data": {
      "text/plain": "(230453, 100)"
     },
     "execution_count": 80,
     "metadata": {},
     "output_type": "execute_result"
    }
   ],
   "source": [
    "train_reduced.shape"
   ]
  },
  {
   "cell_type": "markdown",
   "source": [
    "### apply nearest neighbor search using euclidean distance"
   ],
   "metadata": {
    "collapsed": false
   }
  },
  {
   "cell_type": "code",
   "execution_count": 81,
   "metadata": {},
   "outputs": [],
   "source": [
    "neigh = NearestNeighbors(algorithm='ball_tree',\n",
    "                         metric='minkowski',\n",
    "                         # metric=cosine,\n",
    "                         n_jobs=-1)"
   ]
  },
  {
   "cell_type": "code",
   "execution_count": 82,
   "metadata": {},
   "outputs": [
    {
     "data": {
      "text/plain": "NearestNeighbors(algorithm='ball_tree', n_jobs=-1)"
     },
     "execution_count": 82,
     "metadata": {},
     "output_type": "execute_result"
    }
   ],
   "source": [
    "neigh.fit(train_reduced)"
   ]
  },
  {
   "cell_type": "markdown",
   "source": [
    "#### similarity depends on metric, using s = 1 / (1 + d) for euclidean"
   ],
   "metadata": {
    "collapsed": false,
    "pycharm": {
     "name": "#%% md\n"
    }
   }
  },
  {
   "cell_type": "code",
   "execution_count": 83,
   "metadata": {
    "pycharm": {
     "name": "#%%\n"
    }
   },
   "outputs": [
    {
     "data": {
      "text/plain": "array([2.        , 4.33333333, 5.        , 5.        , 3.75      ,\n       4.        , 3.75      , 5.        , 5.        , 5.        ,\n       5.        , 2.        , 5.        , 5.        , 5.        ,\n       5.        , 2.        , 4.83333333, 4.        , 5.        ,\n       5.        , 5.        , 5.        , 5.        , 5.        ,\n       5.        , 5.        , 5.        , 1.5       , 5.        ,\n       5.        , 2.        , 5.        , 5.        , 5.        ,\n       5.        , 5.        , 2.        , 5.        , 3.        ,\n       5.        , 1.        , 5.        , 5.        , 5.        ,\n       5.        , 5.        , 4.8       , 1.        , 5.        ,\n       5.        , 5.        , 5.        , 5.        , 5.        ,\n       5.        , 5.        , 5.        , 2.        , 5.        ,\n       5.        , 5.        , 5.        , 5.        , 3.        ,\n       5.        , 4.8       , 5.        , 5.        , 5.        ,\n       5.        , 5.        , 5.        , 5.        , 5.        ,\n       5.        , 5.        , 1.        , 5.        ])"
     },
     "execution_count": 83,
     "metadata": {},
     "output_type": "execute_result"
    }
   ],
   "source": [
    "def get_scores(query, nn_object=neigh, n=10, sparse=train):\n",
    "    \"\"\"\n",
    "    Retrieve n nearest neighbors from sparse matrix and calculate\n",
    "    scores from averaged nonzero elements weighted with similarity\n",
    "    :param query: rows from SVD-reduced array\n",
    "    :param nn_object: NearestNeighbor search obj precomputed on\n",
    "    SVD-reduced array\n",
    "    :param n: number of neighbors to retrieve\n",
    "    :param sparse: sparse matrix containing user scores\n",
    "    :return: averaged scores\n",
    "    \"\"\"\n",
    "    distance, indices = nn_object.kneighbors(query, n_neighbors=n)\n",
    "    distance = distance[:, :, None]\n",
    "    similarity = 1 / (1 + distance)\n",
    "    neighbors = []\n",
    "    for row in indices:\n",
    "        row_data = sparse[row].toarray()\n",
    "        neighbors.append(row_data)\n",
    "    # shape: [sample_dim, neighbor_dim, item_dim]\n",
    "    neighbors = np.stack(neighbors, axis=0)\n",
    "    result = (neighbors * similarity).sum(axis=1)\n",
    "    been_scored = np.where(neighbors != 0, 1, 0)\n",
    "    norm = (been_scored * similarity).sum(axis=1)\n",
    "    norm[norm == 0] = 1\n",
    "    result = result / norm\n",
    "    result = np.clip(result, 0, 5)  # account for float errors\n",
    "    return result\n",
    "\n",
    "test_idx = np.random.choice(train.shape[0])\n",
    "test_query = train_reduced[[test_idx]]\n",
    "test_scores = get_scores(test_query, n=100)\n",
    "test_scores[test_scores > 0]"
   ]
  },
  {
   "cell_type": "code",
   "execution_count": 84,
   "metadata": {
    "collapsed": false,
    "jupyter": {
     "outputs_hidden": false
    },
    "pycharm": {
     "name": "#%%\n"
    }
   },
   "outputs": [],
   "source": [
    "def rmse(predicted, sparse=test):\n",
    "    dense = sparse.toarray()\n",
    "    mask = dense != 0\n",
    "    se = np.power(predicted[mask] - dense[mask], 2)\n",
    "    return np.power(se.mean(), 0.5)"
   ]
  },
  {
   "cell_type": "code",
   "execution_count": 85,
   "outputs": [],
   "source": [
    "test_reduced = svd.transform(test)"
   ],
   "metadata": {
    "collapsed": false,
    "pycharm": {
     "name": "#%%\n"
    }
   }
  },
  {
   "cell_type": "code",
   "execution_count": 86,
   "outputs": [
    {
     "data": {
      "text/plain": "(25606, 100)"
     },
     "execution_count": 86,
     "metadata": {},
     "output_type": "execute_result"
    }
   ],
   "source": [
    "test_reduced.shape"
   ],
   "metadata": {
    "collapsed": false,
    "pycharm": {
     "name": "#%%\n"
    }
   }
  },
  {
   "cell_type": "code",
   "execution_count": 87,
   "outputs": [
    {
     "data": {
      "text/plain": "(0.8204670242767109, 2.875374904436263)"
     },
     "execution_count": 87,
     "metadata": {},
     "output_type": "execute_result"
    }
   ],
   "source": [
    "# test size reduced due to memory limitations\n",
    "# need to implement incremental calc instead\n",
    "lower = 143\n",
    "upper = 153\n",
    "limit = slice(lower, upper, None)\n",
    "test_pred = get_scores(test_reduced[limit], n=100)\n",
    "error = rmse(test_pred, test[limit])\n",
    "\n",
    "lower, upper = 40, 50\n",
    "another_limit = slice(lower, upper, None)\n",
    "test_pred = get_scores(test_reduced[another_limit], n=100)\n",
    "another_error = rmse(test_pred, test[another_limit])\n",
    "\n",
    "error, another_error"
   ],
   "metadata": {
    "collapsed": false,
    "pycharm": {
     "name": "#%%\n"
    }
   }
  },
  {
   "cell_type": "markdown",
   "source": [
    "#### error varies strongly without large test set"
   ],
   "metadata": {
    "collapsed": false,
    "pycharm": {
     "name": "#%% md\n"
    }
   }
  },
  {
   "cell_type": "code",
   "execution_count": 88,
   "outputs": [],
   "source": [
    "def suggest_items(name,\n",
    "                  n_items=3,\n",
    "                  n_neighbors=10,\n",
    "                  user_list=test_user_names,\n",
    "                  item_list=item_names,\n",
    "                  nn_object=neigh,\n",
    "                  source_sparse=train,\n",
    "                  local_sparse=test,\n",
    "                  local_reduced=test_reduced):\n",
    "    \"\"\"\n",
    "    Suggest items to user based on Nearest Neighbor search\n",
    "    :param name: user name from dataset under 'UserId'\n",
    "    :param n_items: number of items to suggest\n",
    "    :param n_neighbors: number of neighbors to approximate scores\n",
    "    :param user_list: list of user names user_id comes from\n",
    "    :param item_list: list of item names from dataset under 'ProductId'\n",
    "    :param nn_object: NearestNeighbor search object\n",
    "    :param source_sparse: sparse data used in neighbor search\n",
    "    :param local_sparse: sparse data containing user_id scores\n",
    "    :param local_reduced: sparse data used to represent user_id features\n",
    "    :return: suggested item indices and approximated scores\n",
    "    \"\"\"\n",
    "    idx = np.where(user_list == name)[0][0]\n",
    "    query = local_reduced[idx].reshape(1, -1)\n",
    "    neighbor_scores = get_scores(query, nn_object, n_neighbors, source_sparse).reshape(-1)\n",
    "    user_scores = local_sparse[idx].toarray().reshape(-1)\n",
    "    neighbor_scores[user_scores > 0] = 0\n",
    "    item_indices = neighbor_scores.argsort()[-n_items:]\n",
    "    suggested_names = item_list[item_indices]\n",
    "    suggested_scores = neighbor_scores[item_indices]\n",
    "    return suggested_names, suggested_scores"
   ],
   "metadata": {
    "collapsed": false,
    "pycharm": {
     "name": "#%%\n"
    }
   }
  },
  {
   "cell_type": "code",
   "execution_count": 89,
   "outputs": [
    {
     "data": {
      "text/plain": "('A3UMRKK2HAUFGC',\n (array(['B0001JXBE2', 'B000LKZCPC', 'B001EQ55E0', 'B004T3312I',\n         'B001ELL3LE', 'B004VDGX30', 'B000XTGCLY', 'B004M0Y8T8',\n         'B001EQ5SGU', 'B0026LQW4Y'], dtype=object),\n  array([5., 5., 5., 5., 5., 5., 5., 5., 5., 5.])))"
     },
     "execution_count": 89,
     "metadata": {},
     "output_type": "execute_result"
    }
   ],
   "source": [
    "user_id = test_user_names[43]\n",
    "suggested = suggest_items(user_id, n_items=10, n_neighbors=100)\n",
    "\n",
    "user_id, suggested"
   ],
   "metadata": {
    "collapsed": false,
    "pycharm": {
     "name": "#%%\n"
    }
   }
  }
 ],
 "metadata": {
  "kernelspec": {
   "display_name": "Python 3",
   "language": "python",
   "name": "python3"
  },
  "language_info": {
   "codemirror_mode": {
    "name": "ipython",
    "version": 3
   },
   "file_extension": ".py",
   "mimetype": "text/x-python",
   "name": "python",
   "nbconvert_exporter": "python",
   "pygments_lexer": "ipython3",
   "version": "3.7.0"
  }
 },
 "nbformat": 4,
 "nbformat_minor": 4
}