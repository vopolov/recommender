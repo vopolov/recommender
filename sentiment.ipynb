{
 "cells": [
  {
   "cell_type": "code",
   "execution_count": 16,
   "metadata": {
    "collapsed": true
   },
   "outputs": [],
   "source": [
    "from collections import Counter\n",
    "\n",
    "import tqdm\n",
    "import pandas as pd\n",
    "from torchtext.data.utils import get_tokenizer, ngrams_iterator\n",
    "from torchtext.vocab import Vocab"
   ]
  },
  {
   "cell_type": "markdown",
   "source": [
    "## read data"
   ],
   "metadata": {
    "collapsed": false,
    "pycharm": {
     "name": "#%% md\n"
    }
   }
  },
  {
   "cell_type": "code",
   "execution_count": 17,
   "outputs": [],
   "source": [
    "df = pd.read_csv('data/Reviews.csv')"
   ],
   "metadata": {
    "collapsed": false,
    "pycharm": {
     "name": "#%%\n"
    }
   }
  },
  {
   "cell_type": "code",
   "execution_count": 18,
   "outputs": [],
   "source": [
    "df = df[['Score', 'Text']]"
   ],
   "metadata": {
    "collapsed": false,
    "pycharm": {
     "name": "#%%\n"
    }
   }
  },
  {
   "cell_type": "code",
   "execution_count": 19,
   "outputs": [],
   "source": [
    "df = df.dropna()"
   ],
   "metadata": {
    "collapsed": false,
    "pycharm": {
     "name": "#%%\n"
    }
   }
  },
  {
   "cell_type": "code",
   "execution_count": 20,
   "outputs": [],
   "source": [
    "df = df.drop_duplicates('Text')"
   ],
   "metadata": {
    "collapsed": false,
    "pycharm": {
     "name": "#%%\n"
    }
   }
  },
  {
   "cell_type": "code",
   "execution_count": 21,
   "outputs": [
    {
     "data": {
      "text/plain": "   Score                                               Text\n0      5  I have bought several of the Vitality canned d...\n1      1  Product arrived labeled as Jumbo Salted Peanut...\n2      4  This is a confection that has been around a fe...\n3      2  If you are looking for the secret ingredient i...\n4      5  Great taffy at a great price.  There was a wid...",
      "text/html": "<div>\n<style scoped>\n    .dataframe tbody tr th:only-of-type {\n        vertical-align: middle;\n    }\n\n    .dataframe tbody tr th {\n        vertical-align: top;\n    }\n\n    .dataframe thead th {\n        text-align: right;\n    }\n</style>\n<table border=\"1\" class=\"dataframe\">\n  <thead>\n    <tr style=\"text-align: right;\">\n      <th></th>\n      <th>Score</th>\n      <th>Text</th>\n    </tr>\n  </thead>\n  <tbody>\n    <tr>\n      <th>0</th>\n      <td>5</td>\n      <td>I have bought several of the Vitality canned d...</td>\n    </tr>\n    <tr>\n      <th>1</th>\n      <td>1</td>\n      <td>Product arrived labeled as Jumbo Salted Peanut...</td>\n    </tr>\n    <tr>\n      <th>2</th>\n      <td>4</td>\n      <td>This is a confection that has been around a fe...</td>\n    </tr>\n    <tr>\n      <th>3</th>\n      <td>2</td>\n      <td>If you are looking for the secret ingredient i...</td>\n    </tr>\n    <tr>\n      <th>4</th>\n      <td>5</td>\n      <td>Great taffy at a great price.  There was a wid...</td>\n    </tr>\n  </tbody>\n</table>\n</div>"
     },
     "execution_count": 21,
     "metadata": {},
     "output_type": "execute_result"
    }
   ],
   "source": [
    "df.head()"
   ],
   "metadata": {
    "collapsed": false,
    "pycharm": {
     "name": "#%%\n"
    }
   }
  },
  {
   "cell_type": "code",
   "execution_count": 22,
   "outputs": [
    {
     "data": {
      "text/plain": "count                                                393579\nunique                                               393579\ntop       Product wasn't packaged well, the candy just r...\nfreq                                                      1\nName: Text, dtype: object"
     },
     "execution_count": 22,
     "metadata": {},
     "output_type": "execute_result"
    }
   ],
   "source": [
    "df['Text'].describe()"
   ],
   "metadata": {
    "collapsed": false,
    "pycharm": {
     "name": "#%%\n"
    }
   }
  },
  {
   "cell_type": "code",
   "execution_count": 23,
   "outputs": [
    {
     "data": {
      "text/plain": "array([5, 1, 4, 2, 3])"
     },
     "execution_count": 23,
     "metadata": {},
     "output_type": "execute_result"
    }
   ],
   "source": [
    "df['Score'].unique()"
   ],
   "metadata": {
    "collapsed": false,
    "pycharm": {
     "name": "#%%\n"
    }
   }
  },
  {
   "cell_type": "markdown",
   "source": [
    "## build dataset"
   ],
   "metadata": {
    "collapsed": false,
    "pycharm": {
     "name": "#%% md\n"
    }
   }
  },
  {
   "cell_type": "code",
   "execution_count": 24,
   "outputs": [],
   "source": [
    "labels, reviews = df['Score'].to_numpy(), df['Text'].to_numpy()"
   ],
   "metadata": {
    "collapsed": false,
    "pycharm": {
     "name": "#%%\n"
    }
   }
  },
  {
   "cell_type": "markdown",
   "source": [
    "make splits"
   ],
   "metadata": {
    "collapsed": false,
    "pycharm": {
     "name": "#%% md\n"
    }
   }
  },
  {
   "cell_type": "code",
   "execution_count": 25,
   "outputs": [],
   "source": [
    "def split_data(arrays, ratios=(0.7, 0.2, 0.1)):\n",
    "    data_len = arrays[0].shape[0]\n",
    "    assert all(a.shape[0] == data_len for a in arrays[1:])\n",
    "    sizes = [r / sum(ratios) for r in ratios]\n",
    "    sizes = [int(s * data_len) for s in sizes[:-1]]\n",
    "    sizes.append(data_len - sum(sizes))\n",
    "    start = 0\n",
    "    finish = 0\n",
    "    splits = []\n",
    "    for s in sizes:\n",
    "        finish += s\n",
    "        splits.append([a[start:finish] for a in arrays])\n",
    "        start += s\n",
    "    return splits\n",
    "\n",
    "train, valid, test = split_data((labels, reviews), (0.7, 0.2, 0.1))"
   ],
   "metadata": {
    "collapsed": false,
    "pycharm": {
     "name": "#%%\n"
    }
   }
  },
  {
   "cell_type": "markdown",
   "source": [
    "create vocabulary with bigrams"
   ],
   "metadata": {
    "collapsed": false,
    "pycharm": {
     "name": "#%% md\n"
    }
   }
  },
  {
   "cell_type": "code",
   "execution_count": 26,
   "outputs": [],
   "source": [
    "train_labels, train_text = train"
   ],
   "metadata": {
    "collapsed": false,
    "pycharm": {
     "name": "#%%\n"
    }
   }
  },
  {
   "cell_type": "code",
   "source": [
    "def build_vocab(text,\n",
    "                tokenizer='basic_english',\n",
    "                max_size=30000,  # 3M parameters with emb_dim=100\n",
    "                ngrams=2,\n",
    "                ):\n",
    "    tokenizer = get_tokenizer(tokenizer)\n",
    "    tokenized_text = (tokenizer(row) for row in text)\n",
    "    tokenized_text = (ngrams_iterator(row, ngrams) for row in tokenized_text)\n",
    "    counter = Counter()\n",
    "    for row in tqdm.tqdm(tokenized_text, 'lines', text.shape[0]):\n",
    "        counter.update(row)\n",
    "    return Vocab(counter, max_size)\n",
    "\n",
    "vocab = build_vocab(train_text, tokenizer='spacy')"
   ],
   "metadata": {
    "collapsed": false,
    "pycharm": {
     "name": "#%%\n"
    }
   },
   "execution_count": 29,
   "outputs": [
    {
     "name": "stderr",
     "output_type": "stream",
     "text": [
      "lines: 100%|██████████| 275505/275505 [01:54<00:00, 2412.11it/s]\n"
     ]
    }
   ]
  },
  {
   "cell_type": "code",
   "execution_count": 31,
   "outputs": [
    {
     "data": {
      "text/plain": "['être fort',\n 'être',\n 'çelem )',\n 'çelem',\n 'çay !',\n 'çay',\n '×piperita L.',\n '×piperita',\n \"Ît 's\",\n 'Ît',\n 'Île de',\n 'Île',\n 'Çaykur teas',\n 'Çaykur',\n 'Â  ',\n 'Â',\n '¾ water',\n '¾ tsp',\n '¾ ounces',\n '¾ or',\n '¾ of',\n '¾ cup',\n '¾ \"',\n '¾',\n '½-ounce pouches',\n '½-ounce',\n '½-inch pieces',\n '½-inch',\n '½ years',\n '½ year',\n '½ worked',\n '½ with',\n '½ weeks',\n '½ tsp',\n '½ the',\n '½ teaspoon',\n '½ tablespoons',\n '½ stick',\n '½ star',\n '½ pounds',\n '½ pack',\n '½ ounces',\n '½ or',\n '½ of',\n '½ minutes',\n '½ lbs',\n '½ lb',\n '½ inch',\n '½ in',\n '½ gallon',\n '½ fat',\n '½ cups',\n '½ cup',\n '½ c',\n '½ an',\n '½ a',\n '½ Yorkie',\n '½ Pomeranian',\n '½ -1',\n '½ -',\n '½ ,',\n '½ )',\n '½ &',\n '½ \"',\n '½',\n '¼ the',\n '¼ teaspoon',\n '¼ pound)<br',\n '¼ package',\n '¼ of',\n '¼ inch',\n '¼ cups',\n '¼ cup.<br',\n '¼ cup',\n '¼ c.',\n '¼ TBSP',\n '¼ \"',\n '¼',\n 'º',\n '· Sweetener',\n '· Sucralose',\n '· Saccharin',\n '· Cyclamates',\n '· Aspartame',\n '· Acesulfame',\n '·  ',\n '·',\n 'µg per',\n 'µg daily',\n 'µg THC',\n 'µg (',\n 'µg',\n '± 3',\n '±',\n '° water',\n '° to',\n '° tart',\n '° tap',\n '° giorno',\n '° for',\n '° fever',\n '° f/100',\n '° cherries',\n '° c',\n '° Swizzles',\n '° Spray',\n '° N.',\n '° F.',\n '° F',\n '° C',\n '° .<br',\n '° .',\n '° ,',\n '° !',\n '°',\n '® with',\n '® while',\n '® to',\n '® this',\n '® thinkThin',\n '® thickens',\n '® then',\n '® that',\n '® taste',\n '® storage',\n '® site',\n '® seems',\n '® seasoning',\n '® sauce',\n '® rocks',\n '® requires',\n '® puts',\n '® pureed',\n '® provides',\n '® products',\n '® product',\n '® pet',\n '® on',\n '® manufacturing',\n '® ketchup',\n '® just',\n '® jarred',\n '® is',\n '® infant',\n '® in',\n '® hot',\n '® has',\n '® gravy',\n '® fromSmiley360',\n '® from',\n '® formulas',\n '® formula',\n '® for',\n '® flavors',\n '® falls',\n '® do',\n '® corn',\n '® consumer',\n '® completely',\n '® cofffee',\n '® coffee',\n '® circa',\n '® chocolates',\n '® chicken',\n '® cereal',\n '® canned',\n '® cake',\n '® brings',\n '® brands',\n '® brand',\n '® beans',\n '® bar',\n '® bacon',\n '® are',\n '® and',\n '® allows',\n '® Yeast',\n '® Worchestershire',\n '® White',\n '® Ultra',\n '® Tortilla',\n '® Tapioca',\n '® TF',\n '® Sweetener',\n '® Sport',\n '® Special',\n '® Sleepytime',\n '® Singapore',\n '® Shredded',\n '® Salt',\n '® Rooibos',\n '® Roasted',\n '® Rice',\n '® Ready',\n '® Products',\n '® Potato',\n '® Platinum',\n '® Pickled',\n '® Pet',\n '® Peanut',\n '® Original',\n '® Organics',\n '® Organic',\n '® Oatmeal',\n '® ORGANIC',\n '® No',\n '® Natural',\n '® Mushroom',\n '® Meats',\n '® Mate',\n '® Low',\n '® Liquid',\n '® LLC',\n '® Ketchup',\n '® Inc.',\n '® Iced',\n '® Hour',\n '® Grain',\n '® Girl',\n '® Energy',\n '® ESSENTIALS(tm',\n '® Dressing',\n '® Double',\n '® DHA',\n '® Cream',\n '® Compatible',\n '® Chunky',\n '® Chocolate',\n '® Chips',\n '® Chicken',\n '® Chews',\n '® Chew',\n '® Caramel',\n '® Calorie',\n '® CBTL(tm',\n '® Butter',\n '® Brewers</a',\n '® Brand',\n '® Bran',\n '® Berry',\n '® All',\n '® Addison',\n '® <br',\n '® </a',\n '® <',\n '® :',\n '® 6',\n '® 4',\n '® 2ND',\n '® 12',\n '® 100',\n '® 0.2',\n '® .<br',\n '® .',\n '® ,',\n '® )Shock',\n '® )',\n '® (',\n '® &',\n '® !',\n '®  ',\n '®',\n '¬ others',\n '¬',\n '« Organics',\n '«',\n '© Mocha',\n '© Kelley',\n '© 2011',\n '© 2010',\n '© 2008',\n '© 2004',\n '© (tm',\n '©',\n '¨Life Can',\n '¨Life',\n '¨ *',\n '¨',\n '§ homiedog',\n '§',\n '¦ t',\n '¦ m',\n '¦',\n '£ ^>*&lt',\n '£ 80(at',\n '£ 7',\n '£ 31',\n '£ 30',\n '£ 2.75',\n '£ 12',\n '£',\n '¢¾',\n '¢.99 .',\n '¢.99',\n '¢ per',\n '¢',\n '~~~~~~~~~~~A+++++++++++++~~~~~~~~~~',\n '~~~~~ Low',\n '~~~~~',\n '~~~~<br /><br',\n '~~~~<br',\n '~~~ flavor',\n '~~~',\n '~~We also',\n '~~We',\n '~~Popcorn is',\n '~~Popcorn',\n '~~ you',\n '~~ the',\n '~~ now',\n '~~ and',\n '~~ You',\n '~~ (',\n '~~ $',\n '~~  ',\n '~~',\n '~}<br /><br',\n '~}<br',\n '~wrap -',\n '~wrap',\n '~very weak~.',\n '~very',\n '~too~ bad',\n '~too~',\n '~tea packet',\n '~tea',\n '~smile~',\n '~should~ be',\n '~should~',\n '~really~ messy.<br',\n '~really~',\n '~protein )',\n '~protein',\n '~portion -',\n '~portion',\n '~operabruin',\n '~only~ as',\n '~only~',\n '~most~ cat',\n '~most~',\n '~lowest~ standards?<br',\n '~lowest~',\n '~love~ them!<br',\n '~love~ them!)<br',\n '~love~',\n '~loves~ Chef',\n '~loves~',\n '~look~ like',\n '~look~',\n '~jelly or',\n '~jelly',\n '~half of',\n '~half',\n '~exactly~ what',\n '~exactly~',\n '~enjoy~',\n '~doomsdayer520~ ]',\n '~doomsdayer520~',\n '~cake -',\n '~cake',\n '~but the',\n '~but',\n '~box <',\n '~box',\n '~boo -',\n '~boo',\n '~anything you',\n '~anything',\n '~almost~ added',\n '~almost~',\n '~_~ !',\n '~_~',\n '~Zhena <',\n '~Zhena',\n '~Taste .....',\n '~Taste',\n '~Stephanie Piro',\n '~Stephanie',\n '~Ruby~',\n '~Quoted from',\n '~Quoted',\n '~N~ If',\n '~N~',\n '~N',\n '~Marcel Proust',\n '~Marcel',\n '~KAT',\n '~John West',\n '~John',\n '~Janny Smith',\n '~Janny',\n '~I was',\n '~I',\n '~HypFoods rant',\n '~HypFoods',\n '~Highly recommend',\n '~Highly',\n '~Heather',\n '~H ~',\n '~H',\n '~Gan bei',\n '~Gan',\n '~Flavor Up~',\n '~Flavor',\n '~ENJOY~',\n '~Donna',\n '~Crystal',\n \"~Bob 's\",\n '~Bob',\n '~BON APPETIT',\n '~BON',\n '~Author Unknown',\n '~Author',\n '~Amy',\n '~Amazon.com sellers',\n '~Amazon.com',\n '~AMAZING~!<br />Trust',\n '~AMAZING~!<br',\n '~= 1oz',\n '~=',\n '~<br />Well',\n '~<br />Vitamin',\n '~<br />Total',\n '~<br />This',\n '~<br />Theobromine',\n '~<br />Sill',\n '~<br />Shirley',\n '~<br />Rose',\n \"~<br />I'm\",\n '~<br />I',\n '~<br />Good',\n '~<br />Betaine',\n '~<br />Barb',\n '~<br /><br',\n '~<br /',\n '~<br',\n '~99 %',\n '~99',\n '~90 g',\n '~90',\n '~9 oz',\n '~9 dollars',\n '~9 calories',\n '~9',\n '~80lbs )',\n '~80lbs',\n '~80g;-but from',\n '~80g;-but',\n '~80F',\n '~80 F',\n '~80 %',\n '~80',\n '~8 oz',\n '~8 of',\n '~8 months',\n '~8 crackers',\n '~8',\n '~7yrs )',\n '~7yrs',\n '~7min )',\n '~7min',\n '~75 F',\n '~75',\n '~739 ML',\n '~739',\n '~700 uses',\n '~700',\n '~70 deg',\n '~70 -',\n '~70',\n '~7.6 months',\n '~7.6',\n '~7.0 mph',\n '~7.0',\n '~7 oz',\n '~7 different',\n '~7 -',\n '~7',\n '~66 lbs',\n '~66',\n '~65 pound',\n '~65',\n '~648 gummi',\n '~648',\n '~61 %',\n '~61',\n '~60¢/k -',\n '~60¢/k',\n '~60 lb',\n '~60 %',\n '~60',\n '~6.0 mph',\n '~6.0',\n '~6-hour effect',\n '~6-hour',\n '~6 months',\n '~6 grams',\n '~6 -',\n '~6 )',\n '~6',\n '~5x as',\n '~5x',\n '~51 oz',\n '~51',\n '~50lbs the',\n '~50lbs',\n \"~500g,-that 's\",\n '~500g,-that',\n '~50 ounces',\n '~50 lb',\n '~50 cents',\n '~50 %',\n '~50',\n '~5 packages',\n '~5 minutes',\n '~5 min',\n '~5 different',\n '~5 cups',\n '~5 bite',\n '~5 -',\n '~5 $',\n '~5',\n '~4months old',\n '~4months',\n '~4T /',\n '~4T',\n '~46 cal',\n '~46',\n '~454 grams',\n '~454',\n '~42 g',\n '~42 %',\n '~42',\n '~400ml of',\n '~400ml',\n '~40 lbs',\n '~40',\n '~4 whole',\n '~4 times',\n '~4 raisins',\n '~4 oz',\n '~4 more',\n '~4 Tbsp',\n '~4 -',\n '~4',\n '~3x the',\n '~3x as',\n '~3x',\n '~3mins ,',\n '~3mins',\n '~3g /',\n '~3g',\n '~350 calories',\n '~350',\n '~35 treats',\n '~35 smaller',\n '~35 cup',\n '~35',\n '~340 calories',\n '~340',\n '~33 bags',\n '~33',\n '~320 calories',\n '~320',\n '~30 seconds',\n '~30 sec',\n '~30 minutes',\n '~30 -',\n '~30 %',\n '~30',\n '~3/4 tsp',\n '~3/4 oz',\n '~3/4 nice',\n '~3/4 \"',\n '~3/4',\n '~3/12/2011 <',\n '~3/12/2011',\n '~3.6 calories',\n '~3.6',\n '~3.56 /',\n '~3.56',\n '~3.03 /',\n '~3.03',\n '~3 weeks',\n '~3 to',\n '~3 positive',\n '~3 oz',\n '~3 months',\n '~3 minutes.<br',\n '~3 minutes',\n '~3 g',\n '~3 feet',\n '~3 cups',\n '~3 1/2',\n '~3 -',\n '~3',\n '~2tbsp topping',\n '~2tbsp',\n '~295 calories',\n '~295',\n '~280 calories',\n '~280',\n '~270 g',\n '~270',\n '~27 dollars',\n '~27',\n '~25%.<br /><br',\n '~25%.<br',\n '~25 g',\n '~25 cents',\n '~25 ,',\n '~25 %',\n '~25',\n '~24 oz',\n '~24',\n '~200 degrees',\n '~200 calories',\n '~200 calorie',\n '~200',\n '~20 oz',\n '~20 or',\n '~20 minutes',\n '~20 lbs',\n '~20 lb',\n '~20 calories',\n '~20 -',\n '~20',\n '~2.7 teaspoons',\n '~2.7 oz',\n '~2.7',\n '~2.6 oz',\n '~2.6',\n '~2.39 regular',\n '~2.39',\n '~2.00 a',\n '~2.00',\n '~2 weeks',\n '~2 oz',\n '~2 hours',\n '~2 days',\n '~2 cups',\n '~2 Tablespoons',\n '~2 -',\n '~2',\n '~1inch x',\n '~1inch',\n '~195 -',\n '~195',\n '~19 <',\n '~19',\n '~185F to',\n '~185F',\n '~180deg F)<br',\n '~180deg',\n '~175 remaining',\n '~175',\n '~173 calories',\n '~173',\n '~170.00 .',\n '~170.00',\n '~17 servings',\n '~17',\n '~165 F',\n '~165',\n '~16-ounce smoothie',\n '~16-ounce',\n '~16 months',\n '~16',\n '~15 years',\n '~15 sq',\n '~15 seconds',\n '~15 minutes',\n '~15 cm',\n '~15 almonds',\n '~15 -',\n '~15 %',\n '~15',\n '~145 which',\n '~145',\n '~143 calories',\n '~143',\n '~140 calories',\n '~140',\n '~14 dollars',\n '~14',\n '~13 dollars',\n '~13',\n '~12.5 cents',\n '~12.5 calories',\n '~12.5',\n '~12 years',\n '~12 oz',\n '~12 lbs',\n '~12 lb',\n '~12 crepes',\n '~12',\n '~11\"/28 cm',\n '~11\"/28',\n '~10c /',\n '~10c',\n '~105 °',\n '~105 F)<br',\n '~105',\n '~100-calorie snacks',\n '~100-calorie',\n '~100 g',\n '~100 cups',\n '~100 cals',\n '~100 calories',\n '~100 calorie',\n '~100 cal',\n '~100',\n '~10,000 scovilles',\n '~10,000',\n '~10 to',\n '~10 quarts',\n '~10 oz',\n '~10 minutes',\n '~10 min',\n '~10 dollars',\n '~10 but',\n '~10 -',\n '~10 +',\n '~10 )',\n '~10 %',\n '~10',\n '~1/8 \"',\n '~1/8',\n '~1/4 inch',\n '~1/4',\n '~1.8L of',\n '~1.8L',\n '~1.5 hours).<br',\n '~1.5 Cups',\n '~1.5',\n '~1.40 per',\n '~1.40',\n '~1\"x1 \"',\n '~1\"x1',\n '~1 week',\n '~1 tsp',\n '~1 to',\n '~1 teaspoon',\n '~1 tbsp',\n '~1 tablespoon',\n '~1 month',\n '~1 inch',\n '~1 gram',\n '~1 g',\n '~1 cm',\n '~1 can',\n '~1 T',\n '~1 1/2',\n '~1 -',\n '~1',\n '~0.75 lb',\n '~0.75 \"',\n '~0.75',\n '~.~',\n '~.50 cents',\n '~.50',\n '~.  ',\n '~.',\n '~(yippee )',\n '~(yippee',\n \"~'harmonies '\",\n \"~'harmonies\",\n \"~'chocolatized fig\",\n \"~'chocolatized\",\n '~&lt;15 -',\n '~&lt;15',\n '~&1.33 per',\n '~&1.33',\n '~$9.60 for',\n '~$9.60',\n '~$9.00 )',\n '~$9.00',\n '~$8 per',\n '~$8 .',\n '~$8 )',\n '~$8',\n '~$7.59 .',\n '~$7.59',\n '~$7.50 !',\n '~$7.50',\n '~$7.00 each',\n '~$7.00',\n '~$7 in',\n '~$7 at',\n '~$7 ;',\n '~$7 .',\n '~$7 ,',\n '~$7',\n '~$62 plus',\n '~$62',\n '~$6.00 no',\n '~$6.00',\n '~$6 by',\n '~$6 bottle',\n '~$6 a',\n '~$6 /',\n '~$6',\n '~$50.00 USD',\n '~$50.00',\n '~$5.50 /',\n '~$5.50',\n '~$5.29 each',\n '~$5.29',\n '~$5.00 .',\n '~$5.00',\n '~$5 ?',\n '~$5',\n '~$45 I',\n '~$45',\n '~$400.00 (',\n '~$400.00',\n '~$40/200 g',\n '~$40/200',\n '~$40 shipped',\n '~$40 a',\n '~$40',\n '~$4.50 a',\n '~$4.50 )',\n '~$4.50',\n '~$4.30 /',\n '~$4.30',\n '~$4 it',\n '~$4 /',\n '~$4',\n '~$35 per',\n '~$35 at',\n '~$35',\n '~$33.33 /',\n '~$33.33',\n '~$30 shipped',\n '~$30 equates',\n '~$30',\n '~$3.99 .',\n '~$3.99',\n '~$3.89 /',\n '~$3.89',\n '~$3.50 each',\n '~$3.50',\n '~$3 per',\n '~$3 gal',\n '~$3 a',\n '~$3 /lb',\n '~$3 /',\n '~$3',\n '~$27 in',\n '~$27',\n '~$24 ,',\n '~$24 )',\n '~$24',\n '~$21 box',\n '~$21',\n '~$20 on',\n '~$20 is',\n '~$20 for',\n '~$20 but',\n '~$20 /',\n '~$20 .',\n '~$20 ,',\n '~$20 )',\n '~$20',\n '~$2.80 /',\n '~$2.80',\n '~$2.50 so',\n '~$2.50 per',\n '~$2.50 for',\n '~$2.50 a',\n '~$2.50 USD',\n '~$2.50',\n '~$2.42 a',\n '~$2.42',\n '~$2.00 per',\n '~$2.00',\n '~$2 per',\n '~$2 a',\n '~$2 5',\n '~$2 /',\n '~$2 (',\n '~$2',\n '~$18 per',\n '~$18 -',\n '~$18 )',\n '~$18',\n '~$17 including',\n '~$17 for',\n '~$17 after',\n '~$17',\n '~$15 shipping',\n '~$15 per',\n '~$15 for',\n '~$15',\n '~$14 for',\n '~$14 (',\n '~$14',\n '~$13.70 for',\n '~$13.70',\n '~$13 with',\n '~$13',\n '~$12 or',\n '~$12 nearly',\n '~$12',\n '~$11 .',\n '~$11 (',\n '~$11',\n '~$10.00 )',\n '~$10.00',\n '~$10 to',\n '~$10 per',\n '~$10 for',\n '~$10 ea',\n '~$10 /',\n '~$10 .',\n '~$10 )',\n '~$10',\n '~$1.75 /',\n '~$1.75',\n '~$1.60 /',\n '~$1.60',\n '~$1.50 per',\n '~$1.50 a',\n '~$1.50',\n '~$1.30 -',\n '~$1.30',\n '~$1.00 /',\n '~$1.00',\n '~$1 per',\n '~$1 or',\n '~$1 an',\n '~$1',\n '~$00.50 per',\n '~$00.50',\n '~$0.71 /',\n '~$0.71',\n '~$0.50 /',\n '~$0.50',\n '~$0.43-$0.50  ',\n '~$0.43-$0.50',\n '~$0.35 <',\n '~$0.35',\n '~$0.25 less',\n '~$0.25 each',\n '~$0.25 )',\n '~$0.25',\n '~$0.20 /',\n '~$0.20',\n '~$.70 for',\n '~$.70',\n '~$.50 per',\n '~$.50 a',\n '~$.50',\n '~$.13 /',\n '~$.13',\n '~#3 and',\n '~#3',\n '~!~',\n '~ ~<br',\n '~ ~',\n '~ }',\n '~ yuk.<br',\n '~ your',\n '~ you',\n '~ would',\n '~ with',\n '~ whole',\n '~ where',\n '~ we',\n '~ very',\n '~ turns',\n '~ to',\n '~ this',\n '~ they',\n '~ these',\n '~ the',\n '~ that',\n '~ thank',\n '~ than',\n '~ take',\n '~ still',\n '~ sometimes',\n '~ soft',\n '~ so',\n '~ sneaking',\n '~ similar',\n '~ she',\n '~ red',\n '~ plastic',\n '~ otherwise',\n '~ organically',\n '~ or',\n '~ one',\n '~ once',\n '~ nothing',\n '~ not',\n '~ none',\n '~ no',\n '~ my',\n ...]"
     },
     "execution_count": 31,
     "metadata": {},
     "output_type": "execute_result"
    }
   ],
   "source": [
    "sorted(vocab.freqs)[::-1]"
   ],
   "metadata": {
    "collapsed": false,
    "pycharm": {
     "name": "#%%\n"
    }
   }
  }
 ],
 "metadata": {
  "kernelspec": {
   "display_name": "Python 3",
   "language": "python",
   "name": "python3"
  },
  "language_info": {
   "codemirror_mode": {
    "name": "ipython",
    "version": 2
   },
   "file_extension": ".py",
   "mimetype": "text/x-python",
   "name": "python",
   "nbconvert_exporter": "python",
   "pygments_lexer": "ipython2",
   "version": "2.7.6"
  }
 },
 "nbformat": 4,
 "nbformat_minor": 0
}