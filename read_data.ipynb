{
 "cells": [
  {
   "cell_type": "markdown",
   "metadata": {},
   "source": [
    "### read data"
   ]
  },
  {
   "cell_type": "code",
   "execution_count": 1,
   "metadata": {},
   "outputs": [],
   "source": [
    "import pandas as pd"
   ]
  },
  {
   "cell_type": "code",
   "execution_count": 2,
   "metadata": {},
   "outputs": [],
   "source": [
    "data_df = pd.read_csv('data/Reviews.csv')"
   ]
  },
  {
   "cell_type": "code",
   "execution_count": 3,
   "metadata": {},
   "outputs": [
    {
     "data": {
      "text/plain": "   Id   ProductId          UserId                      ProfileName  \\\n0   1  B001E4KFG0  A3SGXH7AUHU8GW                       delmartian   \n1   2  B00813GRG4  A1D87F6ZCVE5NK                           dll pa   \n2   3  B000LQOCH0   ABXLMWJIXXAIN  Natalia Corres \"Natalia Corres\"   \n3   4  B000UA0QIQ  A395BORC6FGVXV                             Karl   \n4   5  B006K2ZZ7K  A1UQRSCLF8GW1T    Michael D. Bigham \"M. Wassir\"   \n\n   HelpfulnessNumerator  HelpfulnessDenominator  Score        Time  \\\n0                     1                       1      5  1303862400   \n1                     0                       0      1  1346976000   \n2                     1                       1      4  1219017600   \n3                     3                       3      2  1307923200   \n4                     0                       0      5  1350777600   \n\n                 Summary                                               Text  \n0  Good Quality Dog Food  I have bought several of the Vitality canned d...  \n1      Not as Advertised  Product arrived labeled as Jumbo Salted Peanut...  \n2  \"Delight\" says it all  This is a confection that has been around a fe...  \n3         Cough Medicine  If you are looking for the secret ingredient i...  \n4            Great taffy  Great taffy at a great price.  There was a wid...  ",
      "text/html": "<div>\n<style scoped>\n    .dataframe tbody tr th:only-of-type {\n        vertical-align: middle;\n    }\n\n    .dataframe tbody tr th {\n        vertical-align: top;\n    }\n\n    .dataframe thead th {\n        text-align: right;\n    }\n</style>\n<table border=\"1\" class=\"dataframe\">\n  <thead>\n    <tr style=\"text-align: right;\">\n      <th></th>\n      <th>Id</th>\n      <th>ProductId</th>\n      <th>UserId</th>\n      <th>ProfileName</th>\n      <th>HelpfulnessNumerator</th>\n      <th>HelpfulnessDenominator</th>\n      <th>Score</th>\n      <th>Time</th>\n      <th>Summary</th>\n      <th>Text</th>\n    </tr>\n  </thead>\n  <tbody>\n    <tr>\n      <th>0</th>\n      <td>1</td>\n      <td>B001E4KFG0</td>\n      <td>A3SGXH7AUHU8GW</td>\n      <td>delmartian</td>\n      <td>1</td>\n      <td>1</td>\n      <td>5</td>\n      <td>1303862400</td>\n      <td>Good Quality Dog Food</td>\n      <td>I have bought several of the Vitality canned d...</td>\n    </tr>\n    <tr>\n      <th>1</th>\n      <td>2</td>\n      <td>B00813GRG4</td>\n      <td>A1D87F6ZCVE5NK</td>\n      <td>dll pa</td>\n      <td>0</td>\n      <td>0</td>\n      <td>1</td>\n      <td>1346976000</td>\n      <td>Not as Advertised</td>\n      <td>Product arrived labeled as Jumbo Salted Peanut...</td>\n    </tr>\n    <tr>\n      <th>2</th>\n      <td>3</td>\n      <td>B000LQOCH0</td>\n      <td>ABXLMWJIXXAIN</td>\n      <td>Natalia Corres \"Natalia Corres\"</td>\n      <td>1</td>\n      <td>1</td>\n      <td>4</td>\n      <td>1219017600</td>\n      <td>\"Delight\" says it all</td>\n      <td>This is a confection that has been around a fe...</td>\n    </tr>\n    <tr>\n      <th>3</th>\n      <td>4</td>\n      <td>B000UA0QIQ</td>\n      <td>A395BORC6FGVXV</td>\n      <td>Karl</td>\n      <td>3</td>\n      <td>3</td>\n      <td>2</td>\n      <td>1307923200</td>\n      <td>Cough Medicine</td>\n      <td>If you are looking for the secret ingredient i...</td>\n    </tr>\n    <tr>\n      <th>4</th>\n      <td>5</td>\n      <td>B006K2ZZ7K</td>\n      <td>A1UQRSCLF8GW1T</td>\n      <td>Michael D. Bigham \"M. Wassir\"</td>\n      <td>0</td>\n      <td>0</td>\n      <td>5</td>\n      <td>1350777600</td>\n      <td>Great taffy</td>\n      <td>Great taffy at a great price.  There was a wid...</td>\n    </tr>\n  </tbody>\n</table>\n</div>"
     },
     "execution_count": 3,
     "metadata": {},
     "output_type": "execute_result"
    }
   ],
   "source": [
    "data_df.head()"
   ]
  },
  {
   "cell_type": "code",
   "execution_count": 4,
   "metadata": {},
   "outputs": [
    {
     "data": {
      "text/plain": "(568454, 10)"
     },
     "execution_count": 4,
     "metadata": {},
     "output_type": "execute_result"
    }
   ],
   "source": [
    "data_df.shape"
   ]
  },
  {
   "cell_type": "code",
   "execution_count": 5,
   "metadata": {},
   "outputs": [],
   "source": [
    "old_size = data_df.shape[0]"
   ]
  },
  {
   "cell_type": "markdown",
   "metadata": {},
   "source": [
    "### check for missing values"
   ]
  },
  {
   "cell_type": "code",
   "execution_count": 6,
   "metadata": {},
   "outputs": [
    {
     "data": {
      "text/plain": "Id                         0\nProductId                  0\nUserId                     0\nProfileName               16\nHelpfulnessNumerator       0\nHelpfulnessDenominator     0\nScore                      0\nTime                       0\nSummary                   27\nText                       0\ndtype: int64"
     },
     "execution_count": 6,
     "metadata": {},
     "output_type": "execute_result"
    }
   ],
   "source": [
    "data_df.isna().sum()"
   ]
  },
  {
   "cell_type": "markdown",
   "metadata": {},
   "source": [
    "### we won't use ProfileName and Summary columns anyway"
   ]
  },
  {
   "cell_type": "markdown",
   "metadata": {},
   "source": [
    "### check if user scores per product are unique"
   ]
  },
  {
   "cell_type": "code",
   "execution_count": 7,
   "metadata": {},
   "outputs": [],
   "source": [
    "score_counts = data_df.groupby(['UserId', 'ProductId'])['Score'].count()\n",
    "score_counts.columns = ['counts']"
   ]
  },
  {
   "cell_type": "code",
   "execution_count": 8,
   "metadata": {},
   "outputs": [
    {
     "data": {
      "text/plain": "UserId              ProductId \n#oc-R103C0QSV1DF5E  B006Q820X0    1\n#oc-R109MU5OBBZ59U  B008I1XPKA    1\n#oc-R10LFEMQEW6QGZ  B008I1XPKA    1\n#oc-R10LT57ZGIB140  B0026LJ3EA    1\n#oc-R10UA029WVWIUI  B006Q820X0    1\nName: Score, dtype: int64"
     },
     "execution_count": 8,
     "metadata": {},
     "output_type": "execute_result"
    }
   ],
   "source": [
    "score_counts.head()"
   ]
  },
  {
   "cell_type": "code",
   "execution_count": 9,
   "metadata": {},
   "outputs": [
    {
     "data": {
      "text/plain": "11"
     },
     "execution_count": 9,
     "metadata": {},
     "output_type": "execute_result"
    }
   ],
   "source": [
    "score_counts.max()"
   ]
  },
  {
   "cell_type": "markdown",
   "metadata": {},
   "source": [
    "### some reviews are not unique"
   ]
  },
  {
   "cell_type": "markdown",
   "metadata": {},
   "source": [
    "### let's check duplicate reviews for one user / product"
   ]
  },
  {
   "cell_type": "code",
   "execution_count": 10,
   "metadata": {},
   "outputs": [
    {
     "data": {
      "text/plain": "11"
     },
     "execution_count": 10,
     "metadata": {},
     "output_type": "execute_result"
    }
   ],
   "source": [
    "large_idx = score_counts.idxmax()\n",
    "score_counts.loc[large_idx]"
   ]
  },
  {
   "cell_type": "code",
   "execution_count": 11,
   "metadata": {},
   "outputs": [
    {
     "name": "stderr",
     "output_type": "stream",
     "text": [
      "/home/vladimir/miniconda3/envs/clearscale/lib/python3.7/site-packages/ipykernel_launcher.py:1: PerformanceWarning: indexing past lexsort depth may impact performance.\n",
      "  \"\"\"Entry point for launching an IPython kernel.\n"
     ]
    },
    {
     "data": {
      "text/plain": "                               Id ProfileName  HelpfulnessNumerator  \\\nUserId         ProductId                                              \nA29JUMRL1US6YP B000084EZ4  410191        HTBK                     3   \n               B000084EZ4  410234        HTBK                    38   \n               B000084EZ4  410240        HTBK                    19   \n               B000084EZ4  410243        HTBK                    12   \n               B000084EZ4  410250        HTBK                     7   \n               B000084EZ4  410254        HTBK                     4   \n               B000084EZ4  410267        HTBK                     3   \n               B000084EZ4  410268        HTBK                     3   \n               B000084EZ4  410275        HTBK                     5   \n               B000084EZ4  410300        HTBK                     2   \n               B000084EZ4  410304        HTBK                     4   \n\n                           HelpfulnessDenominator  Score        Time  \\\nUserId         ProductId                                               \nA29JUMRL1US6YP B000084EZ4                       4      5  1278201600   \n               B000084EZ4                      40      5  1278201600   \n               B000084EZ4                      23      5  1278201600   \n               B000084EZ4                      14      5  1278201600   \n               B000084EZ4                       8      5  1278201600   \n               B000084EZ4                       4      5  1278201600   \n               B000084EZ4                       3      5  1278201600   \n               B000084EZ4                       3      5  1278201600   \n               B000084EZ4                       6      5  1278201600   \n               B000084EZ4                       2      5  1278201600   \n               B000084EZ4                       5      5  1278201600   \n\n                                                      Summary  \\\nUserId         ProductId                                        \nA29JUMRL1US6YP B000084EZ4  Fantastic Food for Good Cat Health   \n               B000084EZ4  Fantastic Food for Good Cat Health   \n               B000084EZ4  Fantastic Food for Good Cat Health   \n               B000084EZ4  Fantastic Food for Good Cat Health   \n               B000084EZ4  Fantastic Food for Good Cat Health   \n               B000084EZ4  Fantastic Food for Good Cat Health   \n               B000084EZ4  Fantastic Food for Good Cat Health   \n               B000084EZ4  Fantastic Food for Good Cat Health   \n               B000084EZ4  Fantastic Food for Good Cat Health   \n               B000084EZ4  Fantastic Food for Good Cat Health   \n               B000084EZ4  Fantastic Food for Good Cat Health   \n\n                                                                        Text  \nUserId         ProductId                                                      \nA29JUMRL1US6YP B000084EZ4  The pet food industry can be one of the most i...  \n               B000084EZ4  The pet food industry can be one of the most i...  \n               B000084EZ4  The pet food industry can be one of the most i...  \n               B000084EZ4  The pet food industry can be one of the most i...  \n               B000084EZ4  The pet food industry can be one of the most i...  \n               B000084EZ4  The pet food industry can be one of the most i...  \n               B000084EZ4  The pet food industry can be one of the most i...  \n               B000084EZ4  The pet food industry can be one of the most i...  \n               B000084EZ4  The pet food industry can be one of the most i...  \n               B000084EZ4  The pet food industry can be one of the most i...  \n               B000084EZ4  The pet food industry can be one of the most i...  ",
      "text/html": "<div>\n<style scoped>\n    .dataframe tbody tr th:only-of-type {\n        vertical-align: middle;\n    }\n\n    .dataframe tbody tr th {\n        vertical-align: top;\n    }\n\n    .dataframe thead th {\n        text-align: right;\n    }\n</style>\n<table border=\"1\" class=\"dataframe\">\n  <thead>\n    <tr style=\"text-align: right;\">\n      <th></th>\n      <th></th>\n      <th>Id</th>\n      <th>ProfileName</th>\n      <th>HelpfulnessNumerator</th>\n      <th>HelpfulnessDenominator</th>\n      <th>Score</th>\n      <th>Time</th>\n      <th>Summary</th>\n      <th>Text</th>\n    </tr>\n    <tr>\n      <th>UserId</th>\n      <th>ProductId</th>\n      <th></th>\n      <th></th>\n      <th></th>\n      <th></th>\n      <th></th>\n      <th></th>\n      <th></th>\n      <th></th>\n    </tr>\n  </thead>\n  <tbody>\n    <tr>\n      <th rowspan=\"11\" valign=\"top\">A29JUMRL1US6YP</th>\n      <th>B000084EZ4</th>\n      <td>410191</td>\n      <td>HTBK</td>\n      <td>3</td>\n      <td>4</td>\n      <td>5</td>\n      <td>1278201600</td>\n      <td>Fantastic Food for Good Cat Health</td>\n      <td>The pet food industry can be one of the most i...</td>\n    </tr>\n    <tr>\n      <th>B000084EZ4</th>\n      <td>410234</td>\n      <td>HTBK</td>\n      <td>38</td>\n      <td>40</td>\n      <td>5</td>\n      <td>1278201600</td>\n      <td>Fantastic Food for Good Cat Health</td>\n      <td>The pet food industry can be one of the most i...</td>\n    </tr>\n    <tr>\n      <th>B000084EZ4</th>\n      <td>410240</td>\n      <td>HTBK</td>\n      <td>19</td>\n      <td>23</td>\n      <td>5</td>\n      <td>1278201600</td>\n      <td>Fantastic Food for Good Cat Health</td>\n      <td>The pet food industry can be one of the most i...</td>\n    </tr>\n    <tr>\n      <th>B000084EZ4</th>\n      <td>410243</td>\n      <td>HTBK</td>\n      <td>12</td>\n      <td>14</td>\n      <td>5</td>\n      <td>1278201600</td>\n      <td>Fantastic Food for Good Cat Health</td>\n      <td>The pet food industry can be one of the most i...</td>\n    </tr>\n    <tr>\n      <th>B000084EZ4</th>\n      <td>410250</td>\n      <td>HTBK</td>\n      <td>7</td>\n      <td>8</td>\n      <td>5</td>\n      <td>1278201600</td>\n      <td>Fantastic Food for Good Cat Health</td>\n      <td>The pet food industry can be one of the most i...</td>\n    </tr>\n    <tr>\n      <th>B000084EZ4</th>\n      <td>410254</td>\n      <td>HTBK</td>\n      <td>4</td>\n      <td>4</td>\n      <td>5</td>\n      <td>1278201600</td>\n      <td>Fantastic Food for Good Cat Health</td>\n      <td>The pet food industry can be one of the most i...</td>\n    </tr>\n    <tr>\n      <th>B000084EZ4</th>\n      <td>410267</td>\n      <td>HTBK</td>\n      <td>3</td>\n      <td>3</td>\n      <td>5</td>\n      <td>1278201600</td>\n      <td>Fantastic Food for Good Cat Health</td>\n      <td>The pet food industry can be one of the most i...</td>\n    </tr>\n    <tr>\n      <th>B000084EZ4</th>\n      <td>410268</td>\n      <td>HTBK</td>\n      <td>3</td>\n      <td>3</td>\n      <td>5</td>\n      <td>1278201600</td>\n      <td>Fantastic Food for Good Cat Health</td>\n      <td>The pet food industry can be one of the most i...</td>\n    </tr>\n    <tr>\n      <th>B000084EZ4</th>\n      <td>410275</td>\n      <td>HTBK</td>\n      <td>5</td>\n      <td>6</td>\n      <td>5</td>\n      <td>1278201600</td>\n      <td>Fantastic Food for Good Cat Health</td>\n      <td>The pet food industry can be one of the most i...</td>\n    </tr>\n    <tr>\n      <th>B000084EZ4</th>\n      <td>410300</td>\n      <td>HTBK</td>\n      <td>2</td>\n      <td>2</td>\n      <td>5</td>\n      <td>1278201600</td>\n      <td>Fantastic Food for Good Cat Health</td>\n      <td>The pet food industry can be one of the most i...</td>\n    </tr>\n    <tr>\n      <th>B000084EZ4</th>\n      <td>410304</td>\n      <td>HTBK</td>\n      <td>4</td>\n      <td>5</td>\n      <td>5</td>\n      <td>1278201600</td>\n      <td>Fantastic Food for Good Cat Health</td>\n      <td>The pet food industry can be one of the most i...</td>\n    </tr>\n  </tbody>\n</table>\n</div>"
     },
     "execution_count": 11,
     "metadata": {},
     "output_type": "execute_result"
    }
   ],
   "source": [
    "data_df.set_index(['UserId', 'ProductId']).loc[large_idx]"
   ]
  },
  {
   "cell_type": "markdown",
   "metadata": {},
   "source": [
    "### each row corresponds to review helpfullness score and we can have a few scores per review\n",
    "### so we need to drop duplicate rows based on UserId / ProductId before processing"
   ]
  },
  {
   "cell_type": "code",
   "execution_count": 12,
   "metadata": {},
   "outputs": [],
   "source": [
    "data_df = data_df.groupby(['UserId', 'ProductId']).first()"
   ]
  },
  {
   "cell_type": "code",
   "execution_count": 13,
   "metadata": {},
   "outputs": [
    {
     "data": {
      "text/plain": "                                   Id ProfileName  HelpfulnessNumerator  \\\nUserId             ProductId                                              \n#oc-R103C0QSV1DF5E B006Q820X0  136323           C                     1   \n#oc-R109MU5OBBZ59U B008I1XPKA  516062      AayGee                     0   \n#oc-R10LFEMQEW6QGZ B008I1XPKA  516079       Julie                     0   \n#oc-R10LT57ZGIB140 B0026LJ3EA  378693        dipr                     0   \n#oc-R10UA029WVWIUI B006Q820X0  136545       Kim D                     0   \n\n                               HelpfulnessDenominator  Score        Time  \\\nUserId             ProductId                                               \n#oc-R103C0QSV1DF5E B006Q820X0                       2      5  1343088000   \n#oc-R109MU5OBBZ59U B008I1XPKA                       1      5  1350086400   \n#oc-R10LFEMQEW6QGZ B008I1XPKA                       1      5  1345939200   \n#oc-R10LT57ZGIB140 B0026LJ3EA                       0      3  1310601600   \n#oc-R10UA029WVWIUI B006Q820X0                       0      1  1342483200   \n\n                                                                         Summary  \\\nUserId             ProductId                                                       \n#oc-R103C0QSV1DF5E B006Q820X0                                Great for the Price   \n#oc-R109MU5OBBZ59U B008I1XPKA                                 AWESOME Coffee!!!!   \n#oc-R10LFEMQEW6QGZ B008I1XPKA      Brooklyn Bean Roastery Breakfast Blend K-Cups   \n#oc-R10LT57ZGIB140 B0026LJ3EA                                        Some damage   \n#oc-R10UA029WVWIUI B006Q820X0  Less than satisfactory.  I gave the Brooklyn K...   \n\n                                                                            Text  \nUserId             ProductId                                                      \n#oc-R103C0QSV1DF5E B006Q820X0  I have to say I was a little apprehensive to b...  \n#oc-R109MU5OBBZ59U B008I1XPKA  Received my free K cups as a sample promotion ...  \n#oc-R10LFEMQEW6QGZ B008I1XPKA  Brooklyn Bean Roastery Blend K-Cups are great ...  \n#oc-R10LT57ZGIB140 B0026LJ3EA  The shipment of the dog food was quick.  Howev...  \n#oc-R10UA029WVWIUI B006Q820X0  Brooklyn \"French Roast\" K-Cup Coffee is not on...  ",
      "text/html": "<div>\n<style scoped>\n    .dataframe tbody tr th:only-of-type {\n        vertical-align: middle;\n    }\n\n    .dataframe tbody tr th {\n        vertical-align: top;\n    }\n\n    .dataframe thead th {\n        text-align: right;\n    }\n</style>\n<table border=\"1\" class=\"dataframe\">\n  <thead>\n    <tr style=\"text-align: right;\">\n      <th></th>\n      <th></th>\n      <th>Id</th>\n      <th>ProfileName</th>\n      <th>HelpfulnessNumerator</th>\n      <th>HelpfulnessDenominator</th>\n      <th>Score</th>\n      <th>Time</th>\n      <th>Summary</th>\n      <th>Text</th>\n    </tr>\n    <tr>\n      <th>UserId</th>\n      <th>ProductId</th>\n      <th></th>\n      <th></th>\n      <th></th>\n      <th></th>\n      <th></th>\n      <th></th>\n      <th></th>\n      <th></th>\n    </tr>\n  </thead>\n  <tbody>\n    <tr>\n      <th>#oc-R103C0QSV1DF5E</th>\n      <th>B006Q820X0</th>\n      <td>136323</td>\n      <td>C</td>\n      <td>1</td>\n      <td>2</td>\n      <td>5</td>\n      <td>1343088000</td>\n      <td>Great for the Price</td>\n      <td>I have to say I was a little apprehensive to b...</td>\n    </tr>\n    <tr>\n      <th>#oc-R109MU5OBBZ59U</th>\n      <th>B008I1XPKA</th>\n      <td>516062</td>\n      <td>AayGee</td>\n      <td>0</td>\n      <td>1</td>\n      <td>5</td>\n      <td>1350086400</td>\n      <td>AWESOME Coffee!!!!</td>\n      <td>Received my free K cups as a sample promotion ...</td>\n    </tr>\n    <tr>\n      <th>#oc-R10LFEMQEW6QGZ</th>\n      <th>B008I1XPKA</th>\n      <td>516079</td>\n      <td>Julie</td>\n      <td>0</td>\n      <td>1</td>\n      <td>5</td>\n      <td>1345939200</td>\n      <td>Brooklyn Bean Roastery Breakfast Blend K-Cups</td>\n      <td>Brooklyn Bean Roastery Blend K-Cups are great ...</td>\n    </tr>\n    <tr>\n      <th>#oc-R10LT57ZGIB140</th>\n      <th>B0026LJ3EA</th>\n      <td>378693</td>\n      <td>dipr</td>\n      <td>0</td>\n      <td>0</td>\n      <td>3</td>\n      <td>1310601600</td>\n      <td>Some damage</td>\n      <td>The shipment of the dog food was quick.  Howev...</td>\n    </tr>\n    <tr>\n      <th>#oc-R10UA029WVWIUI</th>\n      <th>B006Q820X0</th>\n      <td>136545</td>\n      <td>Kim D</td>\n      <td>0</td>\n      <td>0</td>\n      <td>1</td>\n      <td>1342483200</td>\n      <td>Less than satisfactory.  I gave the Brooklyn K...</td>\n      <td>Brooklyn \"French Roast\" K-Cup Coffee is not on...</td>\n    </tr>\n  </tbody>\n</table>\n</div>"
     },
     "execution_count": 13,
     "metadata": {},
     "output_type": "execute_result"
    }
   ],
   "source": [
    "data_df.head()"
   ]
  },
  {
   "cell_type": "code",
   "execution_count": 14,
   "metadata": {},
   "outputs": [
    {
     "data": {
      "text/plain": "(560804, 8)"
     },
     "execution_count": 14,
     "metadata": {},
     "output_type": "execute_result"
    }
   ],
   "source": [
    "data_df.shape"
   ]
  },
  {
   "cell_type": "code",
   "execution_count": 15,
   "metadata": {},
   "outputs": [
    {
     "name": "stdout",
     "output_type": "stream",
     "text": [
      "duplicates make 1.35% of all data\n"
     ]
    }
   ],
   "source": [
    "new_size = data_df.shape[0]\n",
    "print('duplicates make {:.2f}% of all data'.format((old_size - new_size) / old_size * 100))"
   ]
  },
  {
   "cell_type": "markdown",
   "metadata": {},
   "source": [
    "### number of dropped column is negligible"
   ]
  }
 ],
 "metadata": {
  "kernelspec": {
   "display_name": "Python 3",
   "language": "python",
   "name": "python3"
  },
  "language_info": {
   "codemirror_mode": {
    "name": "ipython",
    "version": 3
   },
   "file_extension": ".py",
   "mimetype": "text/x-python",
   "name": "python",
   "nbconvert_exporter": "python",
   "pygments_lexer": "ipython3",
   "version": "3.7.0"
  }
 },
 "nbformat": 4,
 "nbformat_minor": 4
}